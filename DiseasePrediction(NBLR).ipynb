{
 "cells": [
  {
   "cell_type": "markdown",
   "metadata": {
    "id": "yGJWPQT-srTc"
   },
   "source": [
    "Import Libraries"
   ]
  },
  {
   "cell_type": "code",
   "execution_count": 1,
   "metadata": {
    "executionInfo": {
     "elapsed": 19,
     "status": "ok",
     "timestamp": 1748679713627,
     "user": {
      "displayName": "Tashi Wangyel",
      "userId": "05281045774718339963"
     },
     "user_tz": -360
    },
    "id": "P53aW7OZsvY5"
   },
   "outputs": [],
   "source": [
    "import pandas as pd\n",
    "import re\n",
    "from sklearn.feature_extraction.text import TfidfVectorizer\n",
    "from sklearn.model_selection import train_test_split\n",
    "from sklearn.linear_model import LogisticRegression\n",
    "from sklearn.naive_bayes import MultinomialNB\n",
    "from sklearn.metrics import classification_report, accuracy_score"
   ]
  },
  {
   "cell_type": "markdown",
   "metadata": {
    "id": "kxG_miIBszk7"
   },
   "source": [
    "Dataset Preprocessing"
   ]
  },
  {
   "cell_type": "code",
   "execution_count": 2,
   "metadata": {
    "executionInfo": {
     "elapsed": 2,
     "status": "ok",
     "timestamp": 1748681485101,
     "user": {
      "displayName": "Tashi Wangyel",
      "userId": "05281045774718339963"
     },
     "user_tz": -360
    },
    "id": "FNK3TNNIjRlZ"
   },
   "outputs": [],
   "source": [
    "# Load dataset\n",
    "df = pd.read_csv(\"Symptom2Disease.csv\")\n"
   ]
  },
  {
   "cell_type": "code",
   "execution_count": 3,
   "metadata": {
    "colab": {
     "base_uri": "https://localhost:8080/",
     "height": 206
    },
    "executionInfo": {
     "elapsed": 33,
     "status": "ok",
     "timestamp": 1748681487421,
     "user": {
      "displayName": "Tashi Wangyel",
      "userId": "05281045774718339963"
     },
     "user_tz": -360
    },
    "id": "c96r_qA9XG0j",
    "outputId": "49e9a506-c674-40b5-fdbc-d8f21e617045"
   },
   "outputs": [
    {
     "data": {
      "text/html": [
       "<div>\n",
       "<style scoped>\n",
       "    .dataframe tbody tr th:only-of-type {\n",
       "        vertical-align: middle;\n",
       "    }\n",
       "\n",
       "    .dataframe tbody tr th {\n",
       "        vertical-align: top;\n",
       "    }\n",
       "\n",
       "    .dataframe thead th {\n",
       "        text-align: right;\n",
       "    }\n",
       "</style>\n",
       "<table border=\"1\" class=\"dataframe\">\n",
       "  <thead>\n",
       "    <tr style=\"text-align: right;\">\n",
       "      <th></th>\n",
       "      <th>Unnamed: 0</th>\n",
       "      <th>label</th>\n",
       "      <th>text</th>\n",
       "    </tr>\n",
       "  </thead>\n",
       "  <tbody>\n",
       "    <tr>\n",
       "      <th>0</th>\n",
       "      <td>0</td>\n",
       "      <td>Psoriasis</td>\n",
       "      <td>I have been experiencing a skin rash on my arm...</td>\n",
       "    </tr>\n",
       "    <tr>\n",
       "      <th>1</th>\n",
       "      <td>1</td>\n",
       "      <td>Psoriasis</td>\n",
       "      <td>My skin has been peeling, especially on my kne...</td>\n",
       "    </tr>\n",
       "    <tr>\n",
       "      <th>2</th>\n",
       "      <td>2</td>\n",
       "      <td>Psoriasis</td>\n",
       "      <td>I have been experiencing joint pain in my fing...</td>\n",
       "    </tr>\n",
       "    <tr>\n",
       "      <th>3</th>\n",
       "      <td>3</td>\n",
       "      <td>Psoriasis</td>\n",
       "      <td>There is a silver like dusting on my skin, esp...</td>\n",
       "    </tr>\n",
       "    <tr>\n",
       "      <th>4</th>\n",
       "      <td>4</td>\n",
       "      <td>Psoriasis</td>\n",
       "      <td>My nails have small dents or pits in them, and...</td>\n",
       "    </tr>\n",
       "  </tbody>\n",
       "</table>\n",
       "</div>"
      ],
      "text/plain": [
       "   Unnamed: 0      label                                               text\n",
       "0           0  Psoriasis  I have been experiencing a skin rash on my arm...\n",
       "1           1  Psoriasis  My skin has been peeling, especially on my kne...\n",
       "2           2  Psoriasis  I have been experiencing joint pain in my fing...\n",
       "3           3  Psoriasis  There is a silver like dusting on my skin, esp...\n",
       "4           4  Psoriasis  My nails have small dents or pits in them, and..."
      ]
     },
     "execution_count": 3,
     "metadata": {},
     "output_type": "execute_result"
    }
   ],
   "source": [
    "df.head()"
   ]
  },
  {
   "cell_type": "code",
   "execution_count": 4,
   "metadata": {
    "colab": {
     "base_uri": "https://localhost:8080/"
    },
    "executionInfo": {
     "elapsed": 10,
     "status": "ok",
     "timestamp": 1748681495740,
     "user": {
      "displayName": "Tashi Wangyel",
      "userId": "05281045774718339963"
     },
     "user_tz": -360
    },
    "id": "nAmzoPa2XNtS",
    "outputId": "3c8d80ab-dc37-4e0a-bddd-b2d2efd57d19"
   },
   "outputs": [
    {
     "data": {
      "text/plain": [
       "(1200, 3)"
      ]
     },
     "execution_count": 4,
     "metadata": {},
     "output_type": "execute_result"
    }
   ],
   "source": [
    "df.shape"
   ]
  },
  {
   "cell_type": "code",
   "execution_count": 5,
   "metadata": {
    "colab": {
     "base_uri": "https://localhost:8080/"
    },
    "executionInfo": {
     "elapsed": 29,
     "status": "ok",
     "timestamp": 1748681504355,
     "user": {
      "displayName": "Tashi Wangyel",
      "userId": "05281045774718339963"
     },
     "user_tz": -360
    },
    "id": "xQu_IJ1UYqKh",
    "outputId": "864f93ba-a5cb-4c08-b81f-2c3915aa0a92"
   },
   "outputs": [
    {
     "data": {
      "text/plain": [
       "24"
      ]
     },
     "execution_count": 5,
     "metadata": {},
     "output_type": "execute_result"
    }
   ],
   "source": [
    "df['label'].nunique()"
   ]
  },
  {
   "cell_type": "code",
   "execution_count": 55,
   "metadata": {
    "colab": {
     "base_uri": "https://localhost:8080/",
     "height": 868
    },
    "executionInfo": {
     "elapsed": 16,
     "status": "ok",
     "timestamp": 1748681518034,
     "user": {
      "displayName": "Tashi Wangyel",
      "userId": "05281045774718339963"
     },
     "user_tz": -360
    },
    "id": "9gFY4ucfYu4S",
    "outputId": "5639d741-2af0-4a82-9e79-e4e80e53ce31"
   },
   "outputs": [
    {
     "data": {
      "text/html": [
       "<div>\n",
       "<style scoped>\n",
       "    .dataframe tbody tr th:only-of-type {\n",
       "        vertical-align: middle;\n",
       "    }\n",
       "\n",
       "    .dataframe tbody tr th {\n",
       "        vertical-align: top;\n",
       "    }\n",
       "\n",
       "    .dataframe thead th {\n",
       "        text-align: right;\n",
       "    }\n",
       "</style>\n",
       "<table border=\"1\" class=\"dataframe\">\n",
       "  <thead>\n",
       "    <tr style=\"text-align: right;\">\n",
       "      <th></th>\n",
       "      <th>count</th>\n",
       "    </tr>\n",
       "    <tr>\n",
       "      <th>label</th>\n",
       "      <th></th>\n",
       "    </tr>\n",
       "  </thead>\n",
       "  <tbody>\n",
       "    <tr>\n",
       "      <th>Psoriasis</th>\n",
       "      <td>50</td>\n",
       "    </tr>\n",
       "    <tr>\n",
       "      <th>Varicose Veins</th>\n",
       "      <td>50</td>\n",
       "    </tr>\n",
       "    <tr>\n",
       "      <th>Typhoid</th>\n",
       "      <td>50</td>\n",
       "    </tr>\n",
       "    <tr>\n",
       "      <th>Chicken pox</th>\n",
       "      <td>50</td>\n",
       "    </tr>\n",
       "    <tr>\n",
       "      <th>Impetigo</th>\n",
       "      <td>50</td>\n",
       "    </tr>\n",
       "    <tr>\n",
       "      <th>Dengue</th>\n",
       "      <td>50</td>\n",
       "    </tr>\n",
       "    <tr>\n",
       "      <th>Fungal infection</th>\n",
       "      <td>50</td>\n",
       "    </tr>\n",
       "    <tr>\n",
       "      <th>Common Cold</th>\n",
       "      <td>50</td>\n",
       "    </tr>\n",
       "    <tr>\n",
       "      <th>Pneumonia</th>\n",
       "      <td>50</td>\n",
       "    </tr>\n",
       "    <tr>\n",
       "      <th>Dimorphic Hemorrhoids</th>\n",
       "      <td>50</td>\n",
       "    </tr>\n",
       "    <tr>\n",
       "      <th>Arthritis</th>\n",
       "      <td>50</td>\n",
       "    </tr>\n",
       "    <tr>\n",
       "      <th>Acne</th>\n",
       "      <td>50</td>\n",
       "    </tr>\n",
       "    <tr>\n",
       "      <th>Bronchial Asthma</th>\n",
       "      <td>50</td>\n",
       "    </tr>\n",
       "    <tr>\n",
       "      <th>Hypertension</th>\n",
       "      <td>50</td>\n",
       "    </tr>\n",
       "    <tr>\n",
       "      <th>Migraine</th>\n",
       "      <td>50</td>\n",
       "    </tr>\n",
       "    <tr>\n",
       "      <th>Cervical spondylosis</th>\n",
       "      <td>50</td>\n",
       "    </tr>\n",
       "    <tr>\n",
       "      <th>Jaundice</th>\n",
       "      <td>50</td>\n",
       "    </tr>\n",
       "    <tr>\n",
       "      <th>Malaria</th>\n",
       "      <td>50</td>\n",
       "    </tr>\n",
       "    <tr>\n",
       "      <th>urinary tract infection</th>\n",
       "      <td>50</td>\n",
       "    </tr>\n",
       "    <tr>\n",
       "      <th>allergy</th>\n",
       "      <td>50</td>\n",
       "    </tr>\n",
       "    <tr>\n",
       "      <th>gastroesophageal reflux disease</th>\n",
       "      <td>50</td>\n",
       "    </tr>\n",
       "    <tr>\n",
       "      <th>drug reaction</th>\n",
       "      <td>50</td>\n",
       "    </tr>\n",
       "    <tr>\n",
       "      <th>peptic ulcer disease</th>\n",
       "      <td>50</td>\n",
       "    </tr>\n",
       "    <tr>\n",
       "      <th>diabetes</th>\n",
       "      <td>50</td>\n",
       "    </tr>\n",
       "  </tbody>\n",
       "</table>\n",
       "</div><br><label><b>dtype:</b> int64</label>"
      ],
      "text/plain": [
       "label\n",
       "Psoriasis                          50\n",
       "Varicose Veins                     50\n",
       "Typhoid                            50\n",
       "Chicken pox                        50\n",
       "Impetigo                           50\n",
       "Dengue                             50\n",
       "Fungal infection                   50\n",
       "Common Cold                        50\n",
       "Pneumonia                          50\n",
       "Dimorphic Hemorrhoids              50\n",
       "Arthritis                          50\n",
       "Acne                               50\n",
       "Bronchial Asthma                   50\n",
       "Hypertension                       50\n",
       "Migraine                           50\n",
       "Cervical spondylosis               50\n",
       "Jaundice                           50\n",
       "Malaria                            50\n",
       "urinary tract infection            50\n",
       "allergy                            50\n",
       "gastroesophageal reflux disease    50\n",
       "drug reaction                      50\n",
       "peptic ulcer disease               50\n",
       "diabetes                           50\n",
       "Name: count, dtype: int64"
      ]
     },
     "execution_count": 55,
     "metadata": {},
     "output_type": "execute_result"
    }
   ],
   "source": [
    "duplicate_names = df['label'].value_counts()\n",
    "duplicate_names = duplicate_names[duplicate_names > 1]\n",
    "duplicate_names\n"
   ]
  },
  {
   "cell_type": "code",
   "execution_count": 6,
   "metadata": {
    "executionInfo": {
     "elapsed": 12,
     "status": "ok",
     "timestamp": 1748681528805,
     "user": {
      "displayName": "Tashi Wangyel",
      "userId": "05281045774718339963"
     },
     "user_tz": -360
    },
    "id": "5gwRKGwUW-UT"
   },
   "outputs": [],
   "source": [
    "basic_stopwords = set([\n",
    "    'i', 'me', 'my', 'myself', 'we', 'our', 'ours', 'ourselves', 'you',\n",
    "    'your', 'yours', 'yourself', 'yourselves', 'he', 'him', 'his', 'himself',\n",
    "    'she', 'her', 'hers', 'herself', 'it', 'its', 'itself', 'they', 'them',\n",
    "    'their', 'theirs', 'themselves', 'what', 'which', 'who', 'whom', 'this',\n",
    "    'that', 'these', 'those', 'am', 'is', 'are', 'was', 'were', 'be', 'been',\n",
    "    'being', 'have', 'has', 'had', 'having', 'do', 'does', 'did', 'doing',\n",
    "    'a', 'an', 'the', 'and', 'but', 'if', 'or', 'because', 'as', 'until',\n",
    "    'while', 'of', 'at', 'by', 'for', 'with', 'about', 'against', 'between',\n",
    "    'into', 'through', 'during', 'before', 'after', 'above', 'below', 'to',\n",
    "    'from', 'up', 'down', 'in', 'out', 'on', 'off', 'over', 'under', 'again',\n",
    "    'further', 'then', 'once', 'here', 'there', 'when', 'where', 'why', 'how',\n",
    "    'all', 'any', 'both', 'each', 'few', 'more', 'most', 'other', 'some',\n",
    "    'such', 'no', 'nor', 'not', 'only', 'own', 'same', 'so', 'than', 'too',\n",
    "    'very', 's', 't', 'can', 'will', 'just', 'don', 'should', 'now'\n",
    "])\n",
    "\n",
    "# Preprocessing function\n",
    "def simple_preprocess(text):\n",
    "    text = text.lower()\n",
    "    text = re.sub(r'[^a-z\\s]', '', text)\n",
    "    tokens = text.split()\n",
    "    tokens = [word for word in tokens if word not in basic_stopwords]\n",
    "    return ' '.join(tokens)\n",
    "\n",
    "# Preprocess symptom texts\n",
    "df['clean_symptoms'] = df['text'].apply(simple_preprocess)\n",
    "# df['clean_treatments'] = df['Treatments'].apply(simple_preprocess)"
   ]
  },
  {
   "cell_type": "code",
   "execution_count": 7,
   "metadata": {
    "colab": {
     "base_uri": "https://localhost:8080/",
     "height": 206
    },
    "executionInfo": {
     "elapsed": 41,
     "status": "ok",
     "timestamp": 1748681531522,
     "user": {
      "displayName": "Tashi Wangyel",
      "userId": "05281045774718339963"
     },
     "user_tz": -360
    },
    "id": "R5gsoGKIaxhS",
    "outputId": "c70320a5-7da7-42b3-873e-a3f892cbfc39"
   },
   "outputs": [
    {
     "data": {
      "text/html": [
       "<div>\n",
       "<style scoped>\n",
       "    .dataframe tbody tr th:only-of-type {\n",
       "        vertical-align: middle;\n",
       "    }\n",
       "\n",
       "    .dataframe tbody tr th {\n",
       "        vertical-align: top;\n",
       "    }\n",
       "\n",
       "    .dataframe thead th {\n",
       "        text-align: right;\n",
       "    }\n",
       "</style>\n",
       "<table border=\"1\" class=\"dataframe\">\n",
       "  <thead>\n",
       "    <tr style=\"text-align: right;\">\n",
       "      <th></th>\n",
       "      <th>Unnamed: 0</th>\n",
       "      <th>label</th>\n",
       "      <th>text</th>\n",
       "      <th>clean_symptoms</th>\n",
       "    </tr>\n",
       "  </thead>\n",
       "  <tbody>\n",
       "    <tr>\n",
       "      <th>0</th>\n",
       "      <td>0</td>\n",
       "      <td>Psoriasis</td>\n",
       "      <td>I have been experiencing a skin rash on my arm...</td>\n",
       "      <td>experiencing skin rash arms legs torso past we...</td>\n",
       "    </tr>\n",
       "    <tr>\n",
       "      <th>1</th>\n",
       "      <td>1</td>\n",
       "      <td>Psoriasis</td>\n",
       "      <td>My skin has been peeling, especially on my kne...</td>\n",
       "      <td>skin peeling especially knees elbows scalp pee...</td>\n",
       "    </tr>\n",
       "    <tr>\n",
       "      <th>2</th>\n",
       "      <td>2</td>\n",
       "      <td>Psoriasis</td>\n",
       "      <td>I have been experiencing joint pain in my fing...</td>\n",
       "      <td>experiencing joint pain fingers wrists knees p...</td>\n",
       "    </tr>\n",
       "    <tr>\n",
       "      <th>3</th>\n",
       "      <td>3</td>\n",
       "      <td>Psoriasis</td>\n",
       "      <td>There is a silver like dusting on my skin, esp...</td>\n",
       "      <td>silver like dusting skin especially lower back...</td>\n",
       "    </tr>\n",
       "    <tr>\n",
       "      <th>4</th>\n",
       "      <td>4</td>\n",
       "      <td>Psoriasis</td>\n",
       "      <td>My nails have small dents or pits in them, and...</td>\n",
       "      <td>nails small dents pits often feel inflammatory...</td>\n",
       "    </tr>\n",
       "  </tbody>\n",
       "</table>\n",
       "</div>"
      ],
      "text/plain": [
       "   Unnamed: 0      label                                               text  \\\n",
       "0           0  Psoriasis  I have been experiencing a skin rash on my arm...   \n",
       "1           1  Psoriasis  My skin has been peeling, especially on my kne...   \n",
       "2           2  Psoriasis  I have been experiencing joint pain in my fing...   \n",
       "3           3  Psoriasis  There is a silver like dusting on my skin, esp...   \n",
       "4           4  Psoriasis  My nails have small dents or pits in them, and...   \n",
       "\n",
       "                                      clean_symptoms  \n",
       "0  experiencing skin rash arms legs torso past we...  \n",
       "1  skin peeling especially knees elbows scalp pee...  \n",
       "2  experiencing joint pain fingers wrists knees p...  \n",
       "3  silver like dusting skin especially lower back...  \n",
       "4  nails small dents pits often feel inflammatory...  "
      ]
     },
     "execution_count": 7,
     "metadata": {},
     "output_type": "execute_result"
    }
   ],
   "source": [
    "df.head()"
   ]
  },
  {
   "cell_type": "markdown",
   "metadata": {
    "id": "bHw2dheXs9Rm"
   },
   "source": [
    "Vectorization"
   ]
  },
  {
   "cell_type": "code",
   "execution_count": 8,
   "metadata": {
    "executionInfo": {
     "elapsed": 67,
     "status": "ok",
     "timestamp": 1748681543669,
     "user": {
      "displayName": "Tashi Wangyel",
      "userId": "05281045774718339963"
     },
     "user_tz": -360
    },
    "id": "o2THoMO9tApc"
   },
   "outputs": [],
   "source": [
    "# TF-IDF Vectorization\n",
    "vectorizer = TfidfVectorizer()\n",
    "X_tfidf = vectorizer.fit_transform(df['clean_symptoms'])\n",
    "y = df['label']\n"
   ]
  },
  {
   "cell_type": "markdown",
   "metadata": {
    "id": "8LDEQrDPtFyy"
   },
   "source": [
    "Test and Train Model"
   ]
  },
  {
   "cell_type": "code",
   "execution_count": 9,
   "metadata": {
    "executionInfo": {
     "elapsed": 542,
     "status": "ok",
     "timestamp": 1748681546956,
     "user": {
      "displayName": "Tashi Wangyel",
      "userId": "05281045774718339963"
     },
     "user_tz": -360
    },
    "id": "chiT-zbZtKnR"
   },
   "outputs": [],
   "source": [
    "# Train/Test Split\n",
    "X_train, X_test, y_train, y_test = train_test_split(X_tfidf, y, test_size=0.2, random_state=42)\n",
    "\n",
    "# Logistic Regression Model\n",
    "lr_model = LogisticRegression(max_iter=1000)\n",
    "lr_model.fit(X_train, y_train)\n",
    "lr_preds = lr_model.predict(X_test)\n",
    "\n",
    "# Naive Bayes Model\n",
    "nb_model = MultinomialNB()\n",
    "nb_model.fit(X_train, y_train)\n",
    "nb_preds = nb_model.predict(X_test)"
   ]
  },
  {
   "cell_type": "markdown",
   "metadata": {
    "id": "Q-9VkyE_tO0N"
   },
   "source": [
    "Model Evaluation"
   ]
  },
  {
   "cell_type": "code",
   "execution_count": 10,
   "metadata": {
    "colab": {
     "base_uri": "https://localhost:8080/"
    },
    "executionInfo": {
     "elapsed": 12,
     "status": "ok",
     "timestamp": 1748681550234,
     "user": {
      "displayName": "Tashi Wangyel",
      "userId": "05281045774718339963"
     },
     "user_tz": -360
    },
    "id": "KGp4dotXtTh5",
    "outputId": "ffe6125c-1db5-4a86-e272-e8fd61b073d4"
   },
   "outputs": [
    {
     "name": "stdout",
     "output_type": "stream",
     "text": [
      "\n",
      " Logistic Regression Accuracy: 0.9791666666666666\n",
      "\n",
      " Naive Bayes Accuracy: 0.9541666666666667\n"
     ]
    }
   ],
   "source": [
    "# Evaluation\n",
    "print(\"\\n Logistic Regression Accuracy:\", accuracy_score(y_test, lr_preds))\n",
    "\n",
    "print(\"\\n Naive Bayes Accuracy:\", accuracy_score(y_test, nb_preds))"
   ]
  },
  {
   "cell_type": "markdown",
   "metadata": {
    "id": "9fQICMgttYBE"
   },
   "source": [
    "Model Prediction Function"
   ]
  },
  {
   "cell_type": "code",
   "execution_count": 15,
   "metadata": {
    "colab": {
     "base_uri": "https://localhost:8080/"
    },
    "executionInfo": {
     "elapsed": 17,
     "status": "ok",
     "timestamp": 1748681553495,
     "user": {
      "displayName": "Tashi Wangyel",
      "userId": "05281045774718339963"
     },
     "user_tz": -360
    },
    "id": "h30n7QTmj2Q9",
    "outputId": "47529809-dc77-4bae-a116-405179a378d4"
   },
   "outputs": [
    {
     "name": "stdout",
     "output_type": "stream",
     "text": [
      "Symptoms: cough and cold\n",
      "Disease Prediction LR:  Bronchial Asthma\n",
      "Disease Prediction NB:  Pneumonia\n"
     ]
    }
   ],
   "source": [
    "# Logistic Regression model for prediction\n",
    "def predict_disease_lr(symptom_text):\n",
    "    cleaned = simple_preprocess(symptom_text)\n",
    "    vector = vectorizer.transform([cleaned])\n",
    "    prediction = lr_model.predict(vector)\n",
    "    return prediction[0]\n",
    "\n",
    "# Naive Bayes model for prediction\n",
    "def predict_disease_nb(symptom_text):\n",
    "    cleaned = simple_preprocess(symptom_text)\n",
    "    vector = vectorizer.transform([cleaned])\n",
    "    prediction = nb_model.predict(vector)\n",
    "    return prediction[0]\n",
    "\n",
    "# Example usage\n",
    "user_input = \"cough and cold\"\n",
    "print(\"Symptoms:\", user_input)\n",
    "print(\"Disease Prediction LR: \", predict_disease_lr(user_input))\n",
    "print(\"Disease Prediction NB: \", predict_disease_nb(user_input))"
   ]
  },
  {
   "cell_type": "code",
   "execution_count": 49,
   "metadata": {
    "executionInfo": {
     "elapsed": 37,
     "status": "ok",
     "timestamp": 1748679714323,
     "user": {
      "displayName": "Tashi Wangyel",
      "userId": "05281045774718339963"
     },
     "user_tz": -360
    },
    "id": "zy_Z_5ZgkPtE"
   },
   "outputs": [],
   "source": []
  }
 ],
 "metadata": {
  "colab": {
   "provenance": []
  },
  "kernelspec": {
   "display_name": "Python 3 (ipykernel)",
   "language": "python",
   "name": "python3"
  },
  "language_info": {
   "codemirror_mode": {
    "name": "ipython",
    "version": 3
   },
   "file_extension": ".py",
   "mimetype": "text/x-python",
   "name": "python",
   "nbconvert_exporter": "python",
   "pygments_lexer": "ipython3",
   "version": "3.11.4"
  }
 },
 "nbformat": 4,
 "nbformat_minor": 1
}
